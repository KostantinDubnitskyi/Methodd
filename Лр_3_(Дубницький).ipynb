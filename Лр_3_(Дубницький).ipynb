{
  "nbformat": 4,
  "nbformat_minor": 0,
  "metadata": {
    "colab": {
      "provenance": [],
      "authorship_tag": "ABX9TyOUQC0a+9sn+PPy54zZSFtg",
      "include_colab_link": true
    },
    "kernelspec": {
      "name": "python3",
      "display_name": "Python 3"
    },
    "language_info": {
      "name": "python"
    }
  },
  "cells": [
    {
      "cell_type": "markdown",
      "metadata": {
        "id": "view-in-github",
        "colab_type": "text"
      },
      "source": [
        "<a href=\"https://colab.research.google.com/github/KostantinDubnitskyi/Methodd/blob/main/%D0%9B%D1%80_3_(%D0%94%D1%83%D0%B1%D0%BD%D0%B8%D1%86%D1%8C%D0%BA%D0%B8%D0%B9).ipynb\" target=\"_parent\"><img src=\"https://colab.research.google.com/assets/colab-badge.svg\" alt=\"Open In Colab\"/></a>"
      ]
    },
    {
      "cell_type": "code",
      "source": [
        "#Лабораторна робота 3\n",
        "#Відокремлення коренів\n",
        "import numpy as np\n",
        "import numdifftools as nd\n",
        "def f(x):\n",
        "    return 6*x**4 + 8*x**3 - 24*x**2 - 7\n",
        "def find_segments(): #відокремлюємо корені\n",
        "    search_range = np.arange(-10, 4, 1)\n",
        "\n",
        "    a = None\n",
        "    previous_x = None\n",
        "    current_x  = None\n",
        "    segments = []\n",
        "\n",
        "    for x in search_range:\n",
        "        x = round(x, 4)\n",
        "        current_x = f(x)\n",
        "        if previous_x != None and previous_x * current_x < 0:\n",
        "            segments.append((a, x))\n",
        "        a = x\n",
        "        previous_x = current_x\n",
        "    return segments\n",
        "\n",
        "segments = find_segments()\n",
        "for a, b in segments:\n",
        "    print(f'Found segment:  [{a}, {b}]')"
      ],
      "metadata": {
        "colab": {
          "base_uri": "https://localhost:8080/"
        },
        "id": "ZC2wuWAFOvuk",
        "outputId": "48a6e781-6b04-4b99-a166-12a1b4d4f0f7"
      },
      "execution_count": null,
      "outputs": [
        {
          "output_type": "stream",
          "name": "stdout",
          "text": [
            "Found segment:  [-3, -2]\n",
            "Found segment:  [1, 2]\n"
          ]
        }
      ]
    },
    {
      "cell_type": "code",
      "source": [
        "#Лабораторна робота 3\n",
        "#Метод Ньютона . Комбінований метод\n",
        "def nuton(a, b, eps, f):\n",
        "    df2 = nd.Derivative(f, n=2)(b)  # Отримуємо значення похідної другого порядку в точці b\n",
        "    if f(b) * df2 > 0:\n",
        "        xi = b\n",
        "    else:\n",
        "        xi = a\n",
        "    df = nd.Derivative(f, n=1)(xi)  # Отримуємо значення похідної першого порядку в точці xi\n",
        "    xi_1 = xi - f(xi) / df\n",
        "    while abs(xi_1 - xi) > eps:  # перевіряємо точність\n",
        "        xi = xi_1\n",
        "        xi_1 = xi - f(xi) / df\n",
        "    print('Метод Ньютона, x = ', xi_1.round(4))\n",
        "\n",
        "def komb(a, b, eps, f):\n",
        "    if nd.Derivative(f, n=3)(a) * nd.Derivative(f, n=2)(a) > 0:\n",
        "        a0 = a\n",
        "        b0 = b\n",
        "    else:\n",
        "        a0 = b\n",
        "        b0 = a\n",
        "    ai = a0\n",
        "    bi = b0\n",
        "    while abs(ai - bi) > eps:\n",
        "        ai_1 = ai - f(ai) * (bi - ai) / (f(bi) - f(ai))\n",
        "        bi_1 = bi - f(bi) / nd.Derivative(f, n=1)(bi)\n",
        "        ai = ai_1\n",
        "        bi = bi_1\n",
        "    x = (ai_1 + bi_1) / 2\n",
        "    print('Комбінований метод, x = ', x.round(4))\n",
        "\n",
        "if __name__ == \"__main__\":\n",
        "    a1, b1 = -3, -2\n",
        "    a2, b2 = 1, 2\n",
        "    eps = 0.001\n",
        "    print(\"Розв'язки на відрізку [-3, -2]\")\n",
        "    nuton(a1, b1, eps, f)\n",
        "    komb(a1, b1, eps, f)\n",
        "    print(\"\\nРозв'язки на відрізку [1, 2]\")\n",
        "    nuton(a2, b2, eps, f)\n",
        "    komb(a2, b2, eps, f)"
      ],
      "metadata": {
        "colab": {
          "base_uri": "https://localhost:8080/"
        },
        "id": "zIxvwXhytCpW",
        "outputId": "c6e1c14b-a2e7-499d-839f-e5ab39ed8444"
      },
      "execution_count": null,
      "outputs": [
        {
          "output_type": "stream",
          "name": "stdout",
          "text": [
            "Розв'язки на відрізку [-3, -2]\n",
            "Метод Ньютона, x =  -2.8098\n",
            "Комбінований метод, x =  -2.8096\n",
            "\n",
            "Розв'язки на відрізку [1, 2]\n",
            "Метод Ньютона, x =  1.5547\n",
            "Комбінований метод, x =  1.5532\n"
          ]
        }
      ]
    }
  ]
}