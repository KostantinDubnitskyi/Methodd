{
  "nbformat": 4,
  "nbformat_minor": 0,
  "metadata": {
    "colab": {
      "provenance": [],
      "authorship_tag": "ABX9TyNt1ZOWKLSrkhyHhsVq1+Pu",
      "include_colab_link": true
    },
    "kernelspec": {
      "name": "python3",
      "display_name": "Python 3"
    },
    "language_info": {
      "name": "python"
    }
  },
  "cells": [
    {
      "cell_type": "markdown",
      "metadata": {
        "id": "view-in-github",
        "colab_type": "text"
      },
      "source": [
        "<a href=\"https://colab.research.google.com/github/KostantinDubnitskyi/Methodd/blob/main/%D0%9B%D1%80_12_(%D0%94%D1%83%D0%B1%D0%BD%D0%B8%D1%86%D1%8C%D0%BA%D0%B8%D0%B9).ipynb\" target=\"_parent\"><img src=\"https://colab.research.google.com/assets/colab-badge.svg\" alt=\"Open In Colab\"/></a>"
      ]
    },
    {
      "cell_type": "markdown",
      "source": [
        "# Чисельнне інтегрування\n",
        "Завдання 1. Визначити інтеграм методом прямокутника"
      ],
      "metadata": {
        "id": "b5hCZumR968q"
      }
    },
    {
      "cell_type": "code",
      "source": [
        "from scipy import integrate\n",
        "import numpy as np\n",
        "\n",
        "a = 0.4\n",
        "b = 1.2\n",
        "n = 10\n",
        "h = (b - a) / n  # Крок\n",
        "\n",
        "def f2(x):\n",
        "    return 1 / np.sqrt(0.5 * x + 2)\n",
        "\n",
        "# Метод лівих прямокутників\n",
        "def left_rec(f2, a, b):\n",
        "    sum = 0\n",
        "    for i in range(0, n):\n",
        "        sum += f2(a + i * h)\n",
        "    return sum * h\n",
        "\n",
        "print(\"Left rectangle:\", round(left_rec(f2, a, b), 5))\n",
        "\n",
        "# Метод правих прямокутників\n",
        "def right_rec(f2, a, b):\n",
        "    sum = 0\n",
        "    for i in range(1, n + 1):\n",
        "        sum += f2(a + i * h)\n",
        "    return sum * h\n",
        "\n",
        "print(\"Right rectangle:\", round(right_rec(f2, a, b), 5))\n",
        "\n",
        "# Метод середніх прямокутників\n",
        "def aver_rec(f2, a, b):\n",
        "    sum = 0\n",
        "    for i in range(0, n):\n",
        "        sum += f2(a + (i + 0.5) * h)\n",
        "    return sum * h\n",
        "\n",
        "print(\"Average rectangle:\", round(aver_rec(f2, a, b), 5))\n",
        "\n",
        "# Перевірка за допомогою функції scipy\n",
        "v, err = integrate.quad(f2, a, b)\n",
        "print(\"Check with SciPy quad method:\", round(v, 5))"
      ],
      "metadata": {
        "colab": {
          "base_uri": "https://localhost:8080/"
        },
        "id": "byMNYWHE-Enx",
        "outputId": "4858d055-76c3-4c82-d836-bbbc984a2fd2"
      },
      "execution_count": null,
      "outputs": [
        {
          "output_type": "stream",
          "name": "stdout",
          "text": [
            "Left rectangle: 0.51902\n",
            "Right rectangle: 0.5147\n",
            "Average rectangle: 0.51684\n",
            "Check with SciPy quad method: 0.51685\n"
          ]
        }
      ]
    },
    {
      "cell_type": "markdown",
      "source": [
        "Завдання 2. Визначити інтеграм методом трапецій"
      ],
      "metadata": {
        "id": "B-sFJM3v_RWQ"
      }
    },
    {
      "cell_type": "code",
      "source": [
        "from scipy import integrate\n",
        "import numpy as np\n",
        "\n",
        "# Задаємо функцію, яку необхідно інтегрувати\n",
        "def f(x):\n",
        "    return 1 / np.sqrt(12 * x**2 + 0.5)\n",
        "\n",
        "# Задаємо межі інтегрування та початкову кількість розбиттів\n",
        "a = 0.6\n",
        "b = 1.4\n",
        "n = 20\n",
        "\n",
        "# Обчислюємо значення інтегралу методом трапецій\n",
        "def trapezoidal_rule(f, a, b, n):\n",
        "    h = (b - a) / n\n",
        "    sum = 0.5 * (f(a) + f(b))\n",
        "    x = a\n",
        "\n",
        "    for i in range(1, n):\n",
        "        x += h\n",
        "        sum += f(x)\n",
        "\n",
        "    integral = h * sum\n",
        "\n",
        "    return integral\n",
        "\n",
        "# Виводимо результат методу трапецій\n",
        "integral = trapezoidal_rule(f, a, b, n)\n",
        "print(\"Trapezoidal method result:\", round(integral, 5))\n",
        "\n",
        "# Перевірка за допомогою вбудованої функції\n",
        "v, err = integrate.quad(f, a, b)\n",
        "print(\"Check with SciPy quad method:\", round(v, 5))"
      ],
      "metadata": {
        "colab": {
          "base_uri": "https://localhost:8080/"
        },
        "id": "uMsNf9S5_Vzz",
        "outputId": "6a2b9324-178f-41f6-d4fa-830cb645975d"
      },
      "execution_count": null,
      "outputs": [
        {
          "output_type": "stream",
          "name": "stdout",
          "text": [
            "Trapezoidal method result: 0.23818\n",
            "Check with SciPy quad method: 0.2381\n"
          ]
        }
      ]
    },
    {
      "cell_type": "markdown",
      "source": [
        "Завдання 3. Метод Симпсона"
      ],
      "metadata": {
        "id": "q5DO9FJNBWFz"
      }
    },
    {
      "cell_type": "code",
      "source": [
        "from scipy import integrate\n",
        "import numpy as np\n",
        "\n",
        "# Задаємо функцію, яку необхідно інтегрувати\n",
        "def f(x):\n",
        "    return np.sin(2 * x) / x**2\n",
        "\n",
        "# Задаємо межі інтегрування та початкову кількість розбиттів\n",
        "a = 0.8\n",
        "b = 1.2\n",
        "n = 8\n",
        "h = (b - a) / n\n",
        "\n",
        "# Обчислюємо значення інтегралу методом Сімпсона\n",
        "def simpson_rule(f, a, b, n):\n",
        "    integr = f(a) + f(b)\n",
        "    for i in range(1, n):\n",
        "        k = a + i * h\n",
        "        if i % 2 == 0:\n",
        "            integr += 2 * f(k)\n",
        "        else:\n",
        "            integr += 4 * f(k)\n",
        "    integr *= h / 3\n",
        "    return integr\n",
        "\n",
        "# Виводимо результат\n",
        "print(\"Simpson's method:\", round(simpson_rule(f, a, b, n), 5))\n",
        "\n",
        "# Перевірка за допомогою вбудованої функції\n",
        "v, err = integrate.quad(f, a, b)\n",
        "print(\"Check with SciPy quad method:\", round(v, 5))"
      ],
      "metadata": {
        "colab": {
          "base_uri": "https://localhost:8080/"
        },
        "id": "adqEIRCfBYYS",
        "outputId": "6c6f6ddc-8b28-442d-cb81-e71d8b5da82e"
      },
      "execution_count": null,
      "outputs": [
        {
          "output_type": "stream",
          "name": "stdout",
          "text": [
            "Simpson's method: 0.3777\n",
            "Check with SciPy quad method: 0.3777\n"
          ]
        }
      ]
    }
  ]
}