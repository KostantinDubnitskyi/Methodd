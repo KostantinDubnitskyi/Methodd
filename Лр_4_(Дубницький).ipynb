{
  "nbformat": 4,
  "nbformat_minor": 0,
  "metadata": {
    "colab": {
      "provenance": [],
      "authorship_tag": "ABX9TyPrG1nYsp5YzQKNcgZvYfn6",
      "include_colab_link": true
    },
    "kernelspec": {
      "name": "python3",
      "display_name": "Python 3"
    },
    "language_info": {
      "name": "python"
    }
  },
  "cells": [
    {
      "cell_type": "markdown",
      "metadata": {
        "id": "view-in-github",
        "colab_type": "text"
      },
      "source": [
        "<a href=\"https://colab.research.google.com/github/KostantinDubnitskyi/Methodd/blob/main/%D0%9B%D1%80_4_(%D0%94%D1%83%D0%B1%D0%BD%D0%B8%D1%86%D1%8C%D0%BA%D0%B8%D0%B9).ipynb\" target=\"_parent\"><img src=\"https://colab.research.google.com/assets/colab-badge.svg\" alt=\"Open In Colab\"/></a>"
      ]
    },
    {
      "cell_type": "code",
      "source": [
        "#Встaновлення numpy\n",
        "!pip install numpy"
      ],
      "metadata": {
        "colab": {
          "base_uri": "https://localhost:8080/"
        },
        "id": "RUXiB51_7Nnp",
        "outputId": "fdbbcd59-6de3-4be9-b0f9-7f3a2987485e"
      },
      "execution_count": null,
      "outputs": [
        {
          "output_type": "stream",
          "name": "stdout",
          "text": [
            "Requirement already satisfied: numpy in /usr/local/lib/python3.10/dist-packages (1.26.4)\n"
          ]
        }
      ]
    },
    {
      "cell_type": "code",
      "source": [
        "#1.Знайти матрицю С = 𝐴𝐵 − 𝐵𝐴:\n",
        "import numpy as np\n",
        "A = np.array([[1, 2], [4, -1]])\n",
        "B = np.array([[2, -3], [-4, 1]])\n",
        "\n",
        "AB = np.dot(A, B)\n",
        "BA = np.dot(B, A)\n",
        "\n",
        "C = AB - BA\n",
        "\n",
        "print(\"Матриця С:\")\n",
        "\n",
        "print(C)\n"
      ],
      "metadata": {
        "colab": {
          "base_uri": "https://localhost:8080/"
        },
        "id": "j-uRmcil7csA",
        "outputId": "87c21075-fa32-46af-f4e4-96e1a1dfe9e4"
      },
      "execution_count": null,
      "outputs": [
        {
          "output_type": "stream",
          "name": "stdout",
          "text": [
            "Матриця С:\n",
            "[[ 4 -8]\n",
            " [12 -4]]\n"
          ]
        }
      ]
    },
    {
      "cell_type": "code",
      "source": [
        "#2.Піднести матриці до степеня:\n",
        "import numpy as np\n",
        "A = np.array([[-1, 0, 2], [0, 1, 0], [1, 2, -1]])\n",
        "A_1 = np.dot(A, A)\n",
        "\n",
        "print(\"A^2 =\")\n",
        "print(A_1)"
      ],
      "metadata": {
        "colab": {
          "base_uri": "https://localhost:8080/"
        },
        "id": "3AC7GfCp8gjy",
        "outputId": "abca122a-468d-401b-eb29-77e097238d87"
      },
      "execution_count": null,
      "outputs": [
        {
          "output_type": "stream",
          "name": "stdout",
          "text": [
            "A^2 =\n",
            "[[ 3  4 -4]\n",
            " [ 0  1  0]\n",
            " [-2  0  3]]\n"
          ]
        }
      ]
    },
    {
      "cell_type": "code",
      "source": [
        "#3. Знайти добуток матриць:\n",
        "import numpy as np\n",
        "A = np.array([[3, 5], [6, -1]])\n",
        "\n",
        "B = np.array([[2, 1], [-3, 2]])\n",
        "C = np.dot(A, B)\n",
        "\n",
        "print(\"C =\")\n",
        "print(C)"
      ],
      "metadata": {
        "colab": {
          "base_uri": "https://localhost:8080/"
        },
        "id": "jQ159bDi-LUs",
        "outputId": "27448c2e-490b-462e-f90d-9e418a760a28"
      },
      "execution_count": null,
      "outputs": [
        {
          "output_type": "stream",
          "name": "stdout",
          "text": [
            "C =\n",
            "[[-9 13]\n",
            " [15  4]]\n"
          ]
        }
      ]
    },
    {
      "cell_type": "code",
      "source": [
        "#4.Обчислити визначники:\n",
        "import numpy as np\n",
        "a = np.array([[1, 2, 3], [-1, 2, 1], [1, 3, 2]])\n",
        "\n",
        "det_a = np.linalg.det(a)\n",
        "\n",
        "print(\"Визначник матриці a:\")\n",
        "print(round(det_a, 2))"
      ],
      "metadata": {
        "colab": {
          "base_uri": "https://localhost:8080/"
        },
        "id": "9rVLcLPd-9_M",
        "outputId": "b658ca83-cf06-4238-bb09-04fe1f89a31f"
      },
      "execution_count": null,
      "outputs": [
        {
          "output_type": "stream",
          "name": "stdout",
          "text": [
            "Визначник матриці a:\n",
            "-8.0\n"
          ]
        }
      ]
    },
    {
      "cell_type": "code",
      "source": [
        "#5.Обчислити визначники:\n",
        "import numpy as np\n",
        "\n",
        "a = np.array([[1, 2, 3, 4], [-2, 1, -4, 3], [3, -4, -1, 2], [4, 3, -2, -1]])\n",
        "\n",
        "det_a = np.linalg.det(a)\n",
        "\n",
        "print(\"Визначник матриці:\")\n",
        "print(round(det_a, 2))"
      ],
      "metadata": {
        "colab": {
          "base_uri": "https://localhost:8080/"
        },
        "id": "Zg1FM0u_AP6a",
        "outputId": "85944d19-8b1b-4bf6-b5df-bb83720cac58"
      },
      "execution_count": null,
      "outputs": [
        {
          "output_type": "stream",
          "name": "stdout",
          "text": [
            "Визначник матриці:\n",
            "900.0\n"
          ]
        }
      ]
    },
    {
      "cell_type": "code",
      "source": [
        "#6.Знайти обернену матрицю до матриць:\n",
        "import numpy as np\n",
        "a = np.array([[1, 1, 1, 1], [1, 1, -1, -1], [1, -1, 1, -1], [1, -1, -1, 1]])\n",
        "\n",
        "a_inv = np.linalg.inv(a)\n",
        "\n",
        "print(\"Обернена матриця а:\")\n",
        "print(a_inv)"
      ],
      "metadata": {
        "colab": {
          "base_uri": "https://localhost:8080/"
        },
        "id": "Ck4pwexCBqoy",
        "outputId": "496f0b27-90c1-4482-f930-bb4e20f68d16"
      },
      "execution_count": null,
      "outputs": [
        {
          "output_type": "stream",
          "name": "stdout",
          "text": [
            "Обернена матриця а:\n",
            "[[ 0.25  0.25  0.25  0.25]\n",
            " [ 0.25  0.25 -0.25 -0.25]\n",
            " [ 0.25 -0.25  0.25 -0.25]\n",
            " [ 0.25 -0.25 -0.25  0.25]]\n"
          ]
        }
      ]
    },
    {
      "cell_type": "code",
      "source": [
        "#7.Визначити ранг матриці:\n",
        "import numpy as np\n",
        "a = np.array([[1, 2, 3, 4], [3, -1, 2, 5], [1, 2, 3, 4], [1, 3, 4, 5]])\n",
        "\n",
        "rank_a = np.linalg.matrix_rank(a)\n",
        "\n",
        "print(\"Ранг матриці a:\", rank_a)"
      ],
      "metadata": {
        "colab": {
          "base_uri": "https://localhost:8080/"
        },
        "id": "ME_POqwGCone",
        "outputId": "0a34bd61-2079-42ac-f159-cda0785fde5a"
      },
      "execution_count": null,
      "outputs": [
        {
          "output_type": "stream",
          "name": "stdout",
          "text": [
            "Ранг матриці a: 2\n"
          ]
        }
      ]
    },
    {
      "cell_type": "code",
      "source": [
        "#8.Розв’язати систему лінійних рівнянь методом Крамера матричним методом (тобто обчислити обернену матрицю) і м. Гауса. + перевірка solve()\n",
        "import numpy as np\n",
        "\n",
        "# Матричний метод\n",
        "def matrix_method(coefficients, constants):\n",
        "    inverse_matrix = np.linalg.inv(coefficients)\n",
        "    return np.dot(inverse_matrix, constants)\n",
        "\n",
        "# Метод Крамера\n",
        "def cramer_method(coefficients, constants):\n",
        "    det_coefficients = np.linalg.det(coefficients)\n",
        "    solutions = []\n",
        "    for i in range(len(coefficients)):\n",
        "        modified_coefficients = np.copy(coefficients)\n",
        "        modified_coefficients[:, i] = constants\n",
        "        solutions.append(round(np.linalg.det(modified_coefficients) / det_coefficients, 1))  # Округлюємо до десятих\n",
        "    return solutions\n",
        "\n",
        "# Метод Гауса\n",
        "def gauss_method(a, b):\n",
        "    n = len(b)\n",
        "\n",
        "    for k in range(0, n-1):\n",
        "        for i in range(k+1, n):\n",
        "            if a[i, k] != 0.0:\n",
        "                lam = a[i, k] / a[k, k]\n",
        "                a[i, k+1:n] = a[i, k+1:n] - lam * a[k, k+1:n]\n",
        "                b[i] = b[i] - lam * b[k]\n",
        "\n",
        "    x = np.zeros(n)\n",
        "    for k in range(n-1, -1, -1):\n",
        "        x[k] = (b[k] - np.dot(a[k, k+1:n], x[k+1:n])) / a[k, k]\n",
        "\n",
        "    return x\n",
        "\n",
        "def main():\n",
        "    # Приклад матриці A и вектора B для розв'язку системи рівнянь Ax = B\n",
        "    a = np.array([[2.0, -1.0, 1.0], [3.0, 2.0, 2.0], [1.0, -2.0, 1.0]])\n",
        "\n",
        "    b = np.array([2.0, -2.0, 1.0])\n",
        "\n",
        "    # Матричний метод\n",
        "    x_matrix = matrix_method(a, b)\n",
        "    print(\"Матричний метод:\", x_matrix)\n",
        "\n",
        "    # Метод Крамера\n",
        "    x_cramer = cramer_method(a, b)\n",
        "    print(\"Метод Крамера:\", x_cramer)\n",
        "\n",
        "    # Метод Гауса\n",
        "    x_gauss = gauss_method(a, b)\n",
        "    print(\"Метод Гауса:\", x_gauss)\n",
        "\n",
        "    # Перевірка за допомогою np.linalg.solve\n",
        "    x_check = np.linalg.solve(a, b)\n",
        "    print('Перевірка:')\n",
        "    print('x =', x_check.round(1))\n",
        "\n",
        "if __name__ == \"__main__\":\n",
        "    main()"
      ],
      "metadata": {
        "colab": {
          "base_uri": "https://localhost:8080/"
        },
        "id": "-BWjnobUIEBt",
        "outputId": "6381c698-8ff5-49b2-a980-e122017dfd69"
      },
      "execution_count": null,
      "outputs": [
        {
          "output_type": "stream",
          "name": "stdout",
          "text": [
            "Матричний метод: [ 2. -1. -3.]\n",
            "Метод Крамера: [2.0, -1.0, -3.0]\n",
            "Метод Гауса: [ 2. -1. -3.]\n",
            "Перевірка:\n",
            "x = [ 133.  -68. -332.]\n"
          ]
        }
      ]
    },
    {
      "cell_type": "code",
      "source": [
        "import numpy as np\n",
        "\n",
        "N = 3  # рядки\n",
        "M = 3  # стовпці\n",
        "\n",
        "#Задаємо матрицю з рандомними елементами в діапазоні від -25 до 25\n",
        "A = np.random.randint(-25, 25, size=(N, M))\n",
        "\n",
        "print(\"Матриця A:\")\n",
        "print(A)\n",
        "\n",
        "#Кількість негативних елум. у кожному стовпці\n",
        "n_columns = np.sum(A < 0, axis=0)\n",
        "\n",
        "#Кількість негативних елем. у кожному рядку\n",
        "n_rows = np.sum(A < 0, axis=1)\n",
        "\n",
        "print(\"\\nКількість негативних елем. у кожному стовпці:\")\n",
        "print(n_columns)\n",
        "\n",
        "print(\"\\nКількість негативних елем. у кожному рядку:\")\n",
        "print(n_rows)"
      ],
      "metadata": {
        "colab": {
          "base_uri": "https://localhost:8080/"
        },
        "id": "72n1hBgOMcmn",
        "outputId": "0cacb832-251a-4775-d80b-f09541586a9a"
      },
      "execution_count": null,
      "outputs": [
        {
          "output_type": "stream",
          "name": "stdout",
          "text": [
            "Матриця A:\n",
            "[[-13  12 -25]\n",
            " [  6 -10  16]\n",
            " [  8 -23  10]]\n",
            "\n",
            "Кількість негативних елем. у кожному стовпці:\n",
            "[1 2 1]\n",
            "\n",
            "Кількість негативних елем. у кожному рядку:\n",
            "[2 1 1]\n"
          ]
        }
      ]
    }
  ]
}